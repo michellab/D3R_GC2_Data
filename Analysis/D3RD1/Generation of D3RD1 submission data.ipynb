{
 "cells": [
  {
   "cell_type": "markdown",
   "metadata": {},
   "source": [
    "## Notebook for generating D3R blinded subissions based on alchemical free energy simulations"
   ]
  },
  {
   "cell_type": "markdown",
   "metadata": {},
   "source": [
    "### Instructions\n",
    "This notebook contains all the analysis carried out for the D3R Grand Challenge 2 analysis by Antonia Mey, Jordi Juarez Jimenez and Julien Michel. Simply run the notebook in order to recreate the analysis done in the accompanying publication. The analysis relies on a small module called freenergyworkflows. Please use version 0.3.5 to recreate the exact results used in the publications. \n",
    "\n",
    "Freenergy workflows can be installed from the github repository: https://github.com/michellab/freenrgworkflows or using pip:\n",
    "\n",
    "```pip install freenergyworkflows```"
   ]
  },
  {
   "cell_type": "markdown",
   "metadata": {},
   "source": [
    "### Imports"
   ]
  },
  {
   "cell_type": "code",
   "execution_count": 1,
   "metadata": {},
   "outputs": [
    {
     "name": "stdout",
     "output_type": "stream",
     "text": [
      "Populating the interactive namespace from numpy and matplotlib\n"
     ]
    },
    {
     "data": {
      "text/plain": [
       "'0.3.5'"
      ]
     },
     "execution_count": 1,
     "metadata": {},
     "output_type": "execute_result"
    }
   ],
   "source": [
    "%pylab inline\n",
    "from networkanalysis.networkanalysis import *\n",
    "from networkanalysis.plotting import *\n",
    "import networkanalysis\n",
    "networkanalysis.__version__"
   ]
  },
  {
   "cell_type": "markdown",
   "metadata": {},
   "source": [
    "### 1. Average network analysis of Stage 2 simulations with no scaling"
   ]
  },
  {
   "cell_type": "code",
   "execution_count": 2,
   "metadata": {},
   "outputs": [],
   "source": [
    "pG = PerturbationGraph()"
   ]
  },
  {
   "cell_type": "code",
   "execution_count": 3,
   "metadata": {},
   "outputs": [],
   "source": [
    "pG.populate_pert_graph('Stage2/raw_data/run001.csv')\n",
    "pG.add_data_to_graph('Stage2/raw_data/run002.csv')\n",
    "pG.add_data_to_graph('Stage2/raw_data/run003.csv')"
   ]
  },
  {
   "cell_type": "code",
   "execution_count": 4,
   "metadata": {
    "collapsed": true
   },
   "outputs": [],
   "source": [
    "#generate graph and compute weighed average with respect to target compound\n",
    "graph = pG.graph\n",
    "pG.compute_weighted_avg_paths('FXR17')\n",
    "ordered_keys = ['FXR17', 'FXR45', 'FXR46', 'FXR47', 'FXR48', 'FXR49', 'FXR91', 'FXR93', 'FXR95', 'FXR96', 'FXR98', 'FXR99', 'FXR100', 'FXR101', 'FXR102']"
   ]
  },
  {
   "cell_type": "code",
   "execution_count": 5,
   "metadata": {
    "collapsed": true
   },
   "outputs": [],
   "source": [
    "pG.format_free_energies(merge_BM=True,intermed_ID='INT', compound_order=ordered_keys)"
   ]
  },
  {
   "cell_type": "code",
   "execution_count": 6,
   "metadata": {},
   "outputs": [],
   "source": [
    "stage2_DDG = pG.freeEnergyInKcal"
   ]
  },
  {
   "cell_type": "code",
   "execution_count": 7,
   "metadata": {},
   "outputs": [
    {
     "name": "stdout",
     "output_type": "stream",
     "text": [
      "Full network unscaled free energies are: \n",
      "---------------------------------------- \n",
      "#FREE ENERGIES ARE:\n",
      "FXR17      -0.000 ± 0.000\n",
      "FXR45      -2.880 ± 0.182\n",
      "FXR46      3.443 ± 0.757\n",
      "FXR47      1.301 ± 1.166\n",
      "FXR48      2.017 ± 0.604\n",
      "FXR49      2.084 ± 0.758\n",
      "FXR91      4.536 ± 0.700\n",
      "FXR93      4.427 ± 0.708\n",
      "FXR95      2.459 ± 0.536\n",
      "FXR96      2.603 ± 0.605\n",
      "FXR98      2.945 ± 0.833\n",
      "FXR99      2.806 ± 0.701\n",
      "FXR100     3.197 ± 0.901\n",
      "FXR101     15.361 ± 0.750\n",
      "FXR102     -0.136 ± 1.270\n"
     ]
    }
   ],
   "source": [
    "print \"Full network unscaled free energies are: \"\n",
    "print \"---------------------------------------- \"\n",
    "pG.write_free_energies(stage2_DDG)"
   ]
  },
  {
   "cell_type": "markdown",
   "metadata": {},
   "source": [
    "### comparing to two runs"
   ]
  },
  {
   "cell_type": "code",
   "execution_count": 8,
   "metadata": {},
   "outputs": [],
   "source": [
    "pG_2r = PerturbationGraph()\n",
    "pG_2r.populate_pert_graph('Stage2/raw_data/run001.csv')\n",
    "pG_2r.add_data_to_graph('Stage2/raw_data/run002.csv')\n",
    "pG_2r.compute_weighted_avg_paths('FXR17')\n",
    "pG_2r.format_free_energies(merge_BM=True,intermed_ID='INT', compound_order=ordered_keys)\n",
    "stage2_DDG_2r = pG_2r.freeEnergyInKcal"
   ]
  },
  {
   "cell_type": "code",
   "execution_count": 9,
   "metadata": {},
   "outputs": [
    {
     "name": "stdout",
     "output_type": "stream",
     "text": [
      "['FXR100' 'FXR101' 'FXR102' 'FXR17' 'FXR45' 'FXR46' 'FXR47' 'FXR48' 'FXR49'\n",
      " 'FXR91' 'FXR93' 'FXR95' 'FXR96' 'FXR98' 'FXR99']\n"
     ]
    },
    {
     "data": {
      "text/plain": [
       "(<matplotlib.axes._subplots.AxesSubplot at 0x1148231d0>,\n",
       " <matplotlib.figure.Figure at 0x1037f2550>)"
      ]
     },
     "execution_count": 9,
     "metadata": {},
     "output_type": "execute_result"
    },
    {
     "data": {
      "image/png": "[encoded data removed]",
      "text/plain": [
       "<matplotlib.figure.Figure at 0x1037f2550>"
      ]
     },
     "metadata": {},
     "output_type": "display_data"
    }
   ],
   "source": [
    "fep = FreeEnergyPlotter(stage2_DDG, stage2_DDG_2r)\n",
    "fep.plot_bar_plot(legend=('3runs','2runs'))"
   ]
  },
  {
   "cell_type": "markdown",
   "metadata": {},
   "source": [
    "### 2. Average network analysis of Stage 2 simulations only same charge compounds"
   ]
  },
  {
   "cell_type": "code",
   "execution_count": 10,
   "metadata": {},
   "outputs": [],
   "source": [
    "pG_no_101 = PerturbationGraph()\n",
    "pG_no_101.populate_pert_graph('Stage2/raw_data/run001.csv')\n",
    "pG_no_101.add_data_to_graph('Stage2/raw_data/run002.csv')\n",
    "pG_no_101.add_data_to_graph('Stage2/raw_data/run003.csv')\n"
   ]
  },
  {
   "cell_type": "code",
   "execution_count": 11,
   "metadata": {
    "collapsed": true
   },
   "outputs": [],
   "source": [
    "pG_no_101.remove_compound_from_graph('FXR101')"
   ]
  },
  {
   "cell_type": "code",
   "execution_count": 12,
   "metadata": {},
   "outputs": [],
   "source": [
    "pG_no_101.compute_weighted_avg_paths('FXR17')\n",
    "ordered_keys = ['FXR17', 'FXR45', 'FXR46', 'FXR47', 'FXR48', 'FXR49', 'FXR91', 'FXR93', 'FXR95', 'FXR96', 'FXR98', 'FXR99', 'FXR100', 'FXR102']\n",
    "pG_no_101.format_free_energies(merge_BM=True,intermed_ID='INT', compound_order=ordered_keys)\n",
    "stage2_DDG_no_101 = pG_no_101.freeEnergyInKcal"
   ]
  },
  {
   "cell_type": "code",
   "execution_count": 13,
   "metadata": {},
   "outputs": [
    {
     "name": "stdout",
     "output_type": "stream",
     "text": [
      "Same charge unscaled free energies are: \n",
      "-----------_--------------------------- \n",
      "#FREE ENERGIES ARE:\n",
      "FXR17, -0.00, 0.00\n",
      "FXR45, -2.88, 0.18\n",
      "FXR46, 3.44, 0.76\n",
      "FXR47, 1.30, 1.17\n",
      "FXR48, 2.02, 0.60\n",
      "FXR49, 2.08, 0.76\n",
      "FXR91, 4.54, 0.70\n",
      "FXR93, 4.43, 0.71\n",
      "FXR95, 2.46, 0.54\n",
      "FXR96, 2.60, 0.61\n",
      "FXR98, 2.95, 0.83\n",
      "FXR99, 2.81, 0.70\n",
      "FXR100, 3.20, 0.90\n",
      "FXR102, -0.14, 1.27\n"
     ]
    }
   ],
   "source": [
    "print \"Same charge unscaled free energies are: \"\n",
    "print \"-----------_--------------------------- \"\n",
    "pG_no_101.write_free_energies(stage2_DDG_no_101, fmt = '%s, %.2f, %.2f')"
   ]
  },
  {
   "cell_type": "markdown",
   "metadata": {},
   "source": [
    "### 3. Average network analysis of Stage 2 simulations only same charge compounds and mixed scaling "
   ]
  },
  {
   "cell_type": "code",
   "execution_count": 14,
   "metadata": {
    "collapsed": true
   },
   "outputs": [],
   "source": [
    "f = open('Stage2/raw_data/scale-0.7-0.5-refFXR17-mixedscaling.dat')\n",
    "lines = f.readlines()"
   ]
  },
  {
   "cell_type": "code",
   "execution_count": 15,
   "metadata": {
    "collapsed": true
   },
   "outputs": [],
   "source": [
    "scaling = []\n",
    "for line in lines:\n",
    "    arr =  line.split()\n",
    "    if arr[0].startswith('#'):\n",
    "        continue\n",
    "    if arr[0] == 'FXR101':\n",
    "        continue\n",
    "    dic = {}\n",
    "    dic[arr[0]] = float(arr[1])\n",
    "    dic['error'] = float(arr[2])\n",
    "    scaling.append(dic)"
   ]
  },
  {
   "cell_type": "code",
   "execution_count": 16,
   "metadata": {
    "collapsed": true
   },
   "outputs": [],
   "source": [
    "set2_paths = pG_no_101.weightedPathAverages"
   ]
  },
  {
   "cell_type": "code",
   "execution_count": 17,
   "metadata": {
    "collapsed": true
   },
   "outputs": [],
   "source": [
    "scaled_set2_paths = []\n",
    "for p in set2_paths:\n",
    "    for s in scaling:\n",
    "        p_keys = p.keys()\n",
    "        if p_keys[0]!='error':\n",
    "            if s.has_key(p_keys[0]):\n",
    "                dic = {}\n",
    "                dic[p_keys[0]]= p[p_keys[0]]+s[p_keys[0]]\n",
    "                dic['error'] = np.sqrt(p['error']**2+s['error']**2)\n",
    "                scaled_set2_paths.append(dic)\n",
    "        else:\n",
    "            if s.has_key(p_keys[1]):\n",
    "                dic = {}\n",
    "                dic[p_keys[1]]= p[p_keys[1]]+s[p_keys[1]]\n",
    "                dic['error'] = np.sqrt(p['error']**2+s['error']**2)\n",
    "                scaled_set2_paths.append(dic)"
   ]
  },
  {
   "cell_type": "code",
   "execution_count": 18,
   "metadata": {
    "collapsed": true
   },
   "outputs": [],
   "source": [
    "ordered_keys = ['FXR17', 'FXR45', 'FXR46', 'FXR47', 'FXR48', 'FXR49', 'FXR91', 'FXR93', 'FXR95', 'FXR96', 'FXR98', 'FXR99', 'FXR100', 'FXR102']\n",
    "pG_no_101.format_free_energies(merge_BM=True,intermed_ID = 'INT', path_dictionary=scaled_set2_paths,compound_order=ordered_keys)"
   ]
  },
  {
   "cell_type": "code",
   "execution_count": 19,
   "metadata": {},
   "outputs": [
    {
     "name": "stdout",
     "output_type": "stream",
     "text": [
      "Same charge scaled free energies are: \n",
      "------------------------------------- \n",
      "#FREE ENERGIES ARE:\n",
      "FXR17, -0.00, 0.16\n",
      "FXR45, -3.80, 0.24\n",
      "FXR46, 1.61, 0.83\n",
      "FXR47, -0.85, 1.20\n",
      "FXR48, 0.16, 0.64\n",
      "FXR49, 0.92, 0.83\n",
      "FXR91, 5.09, 0.72\n",
      "FXR93, 4.47, 0.72\n",
      "FXR95, 0.31, 0.61\n",
      "FXR96, -0.25, 0.63\n",
      "FXR98, 1.23, 0.87\n",
      "FXR99, 1.50, 0.71\n",
      "FXR100, 0.44, 0.93\n",
      "FXR102, -3.72, 1.28\n"
     ]
    }
   ],
   "source": [
    "print \"Same charge scaled free energies are: \"\n",
    "print \"------------------------------------- \"\n",
    "pG.write_free_energies(pG_no_101.freeEnergyInKcal,fmt='%s, %.2f, %.2f')"
   ]
  },
  {
   "cell_type": "markdown",
   "metadata": {},
   "source": [
    "### 4. Average network analysis of Stage 2 simulations mixed scaling "
   ]
  },
  {
   "cell_type": "code",
   "execution_count": 20,
   "metadata": {},
   "outputs": [],
   "source": [
    "f = open('Stage2/raw_data/scale-0.7-0.5-refFXR17-mixedscaling.dat')\n",
    "lines = f.readlines()"
   ]
  },
  {
   "cell_type": "code",
   "execution_count": 21,
   "metadata": {},
   "outputs": [],
   "source": [
    "scaling = []\n",
    "for line in lines:\n",
    "    arr =  line.split()\n",
    "    if arr[0].startswith('#'):\n",
    "        continue\n",
    "    dic = {}\n",
    "    dic[arr[0]] = float(arr[1])\n",
    "    dic['error'] = float(arr[2])\n",
    "    scaling.append(dic)"
   ]
  },
  {
   "cell_type": "code",
   "execution_count": 22,
   "metadata": {},
   "outputs": [],
   "source": [
    "set2_paths = pG.weightedPathAverages"
   ]
  },
  {
   "cell_type": "code",
   "execution_count": 23,
   "metadata": {},
   "outputs": [],
   "source": [
    "scaled_set2_paths = []\n",
    "for p in set2_paths:\n",
    "    for s in scaling:\n",
    "        p_keys = p.keys()\n",
    "        if p_keys[0]!='error':\n",
    "            if s.has_key(p_keys[0]):\n",
    "                dic = {}\n",
    "                dic[p_keys[0]]= p[p_keys[0]]+s[p_keys[0]]\n",
    "                dic['error'] = np.sqrt(p['error']**2+s['error']**2)\n",
    "                scaled_set2_paths.append(dic)\n",
    "        else:\n",
    "            if s.has_key(p_keys[1]):\n",
    "                dic = {}\n",
    "                dic[p_keys[1]]= p[p_keys[1]]+s[p_keys[1]]\n",
    "                dic['error'] = np.sqrt(p['error']**2+s['error']**2)\n",
    "                scaled_set2_paths.append(dic)"
   ]
  },
  {
   "cell_type": "code",
   "execution_count": 24,
   "metadata": {},
   "outputs": [],
   "source": [
    "ordered_keys = ['FXR17', 'FXR45', 'FXR46', 'FXR47', 'FXR48', 'FXR49', 'FXR91', 'FXR93', 'FXR95', 'FXR96', 'FXR98', 'FXR99', 'FXR100', 'FXR101', 'FXR102']\n",
    "pG.format_free_energies(merge_BM=True,intermed_ID = 'INT', path_dictionary=scaled_set2_paths,compound_order=ordered_keys)"
   ]
  },
  {
   "cell_type": "code",
   "execution_count": 25,
   "metadata": {},
   "outputs": [
    {
     "name": "stdout",
     "output_type": "stream",
     "text": [
      "Averaged network scaled free energies are: \n",
      "------------------------------------------ \n",
      "#FREE ENERGIES ARE:\n",
      "FXR17, -0.00, 0.16\n",
      "FXR45, -3.80, 0.24\n",
      "FXR46, 1.61, 0.83\n",
      "FXR47, -0.85, 1.20\n",
      "FXR48, 0.16, 0.64\n",
      "FXR49, 0.92, 0.83\n",
      "FXR91, 5.09, 0.72\n",
      "FXR93, 4.47, 0.72\n",
      "FXR95, 0.31, 0.61\n",
      "FXR96, -0.25, 0.63\n",
      "FXR98, 1.23, 0.87\n",
      "FXR99, 1.50, 0.71\n",
      "FXR100, 0.44, 0.93\n",
      "FXR101, 3.00, 0.83\n",
      "FXR102, -3.72, 1.28\n"
     ]
    }
   ],
   "source": [
    "print \"Averaged network scaled free energies are: \"\n",
    "print \"------------------------------------------ \"\n",
    "pG.write_free_energies(pG.freeEnergyInKcal, fmt='%s, %.2f, %.2f')"
   ]
  },
  {
   "cell_type": "code",
   "execution_count": 26,
   "metadata": {},
   "outputs": [
    {
     "name": "stdout",
     "output_type": "stream",
     "text": [
      "['FXR100' 'FXR101' 'FXR102' 'FXR17' 'FXR45' 'FXR46' 'FXR47' 'FXR48' 'FXR49'\n",
      " 'FXR91' 'FXR93' 'FXR95' 'FXR96' 'FXR98' 'FXR99']\n"
     ]
    },
    {
     "data": {
      "text/plain": [
       "(<matplotlib.axes._subplots.AxesSubplot at 0x117446c10>,\n",
       " <matplotlib.figure.Figure at 0x116cd0850>)"
      ]
     },
     "execution_count": 26,
     "metadata": {},
     "output_type": "execute_result"
    },
    {
     "data": {
      "image/png": "[encoded data removed]",
      "text/plain": [
       "<matplotlib.figure.Figure at 0x116cd0850>"
      ]
     },
     "metadata": {},
     "output_type": "display_data"
    }
   ],
   "source": [
    "fep = FreeEnergyPlotter(stage2_DDG,pG.freeEnergyInKcal)\n",
    "fep.plot_bar_plot(legend=('unscaled','mixedscaled'))"
   ]
  },
  {
   "cell_type": "code",
   "execution_count": null,
   "metadata": {
    "collapsed": true
   },
   "outputs": [],
   "source": []
  }
 ],
 "metadata": {
  "anaconda-cloud": {},
  "kernelspec": {
   "display_name": "Python [conda env:py2k]",
   "language": "python",
   "name": "conda-env-py2k-py"
  },
  "language_info": {
   "codemirror_mode": {
    "name": "ipython",
    "version": 2
   },
   "file_extension": ".py",
   "mimetype": "text/x-python",
   "name": "python",
   "nbconvert_exporter": "python",
   "pygments_lexer": "ipython2",
   "version": "2.7.12"
  }
 },
 "nbformat": 4,
 "nbformat_minor": 1
}
